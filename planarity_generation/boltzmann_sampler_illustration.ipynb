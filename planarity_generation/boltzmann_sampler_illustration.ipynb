{
 "cells": [
  {
   "cell_type": "code",
   "execution_count": 1,
   "metadata": {},
   "outputs": [],
   "source": [
    "from framework.boltzmann_samplers import *\n",
    "from framework.decomposition_grammar import DecompositionGrammar"
   ]
  },
  {
   "cell_type": "markdown",
   "metadata": {},
   "source": [
    "$T(x) = x + x \\cdot T(x)²$\n",
    "\n",
    "$\\Rightarrow T(x) = \\frac{1 - \\sqrt{1 - 4 x^2}}{2 x}$\n",
    "\n",
    "$E(x) = \\frac{xT'(x)}{T(x)}$\n",
    "\n",
    "Now solve\n",
    "$E(x) = n$ for $x$ = $x_0$ and compute $T(x_0)$"
   ]
  },
  {
   "cell_type": "code",
   "execution_count": 2,
   "metadata": {},
   "outputs": [
    {
     "data": {
      "text/plain": [
       "92.216"
      ]
     },
     "execution_count": 2,
     "metadata": {},
     "output_type": "execute_result"
    }
   ],
   "source": [
    "class Oracle:\n",
    "    # these values are for size 100\n",
    "    evaluations = {\n",
    "        'x0': 0.4999749994,\n",
    "        'y0': 1.0, #  this is not needed here\n",
    "        'Tree(x0,y0)': 0.99005\n",
    "    }\n",
    "\n",
    "    def get(self, query_string):\n",
    "        # print(query_string)\n",
    "        if query_string in self.evaluations:\n",
    "            return self.evaluations[query_string]\n",
    "        else:\n",
    "            return 0.5\n",
    "        \n",
    "# some shortcuts to make the grammar more readable\n",
    "Z = ZeroAtom()\n",
    "L = LAtom()\n",
    "U = UAtom()\n",
    "\n",
    "Tree = Alias('Tree')\n",
    "\n",
    "test_grammar = DecompositionGrammar()\n",
    "test_grammar.add_rules({\n",
    "\n",
    "    # tree is either a leaf or inner node with two children which are trees\n",
    "    'Tree': L + Tree * L * Tree\n",
    "\n",
    "})\n",
    "\n",
    "# inject the oracle into the samplers\n",
    "BoltzmannSampler.oracle = Oracle()\n",
    "\n",
    "\n",
    "sizes = [test_grammar.sample('Tree', 'x0', 'y0').get_l_size() for _ in range(1000)]\n",
    "sum(sizes) / len(sizes)"
   ]
  }
 ],
 "metadata": {
  "kernelspec": {
   "display_name": "Python 3",
   "language": "python",
   "name": "python3"
  },
  "language_info": {
   "codemirror_mode": {
    "name": "ipython",
    "version": 3
   },
   "file_extension": ".py",
   "mimetype": "text/x-python",
   "name": "python",
   "nbconvert_exporter": "python",
   "pygments_lexer": "ipython3",
   "version": "3.6.5"
  }
 },
 "nbformat": 4,
 "nbformat_minor": 2
}
